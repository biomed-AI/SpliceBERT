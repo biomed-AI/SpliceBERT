{
 "cells": [
  {
   "cell_type": "code",
   "execution_count": 19,
   "metadata": {},
   "outputs": [],
   "source": [
    "import os\n",
    "os.environ[\"CUDA_VISIBLE_DEVICES\"] = \"2\"\n",
    "import sys\n",
    "import json\n",
    "import pickle\n",
    "import gzip\n",
    "import h5py\n",
    "from glob import glob\n",
    "from tqdm import tqdm\n",
    "import numpy as np\n",
    "import pandas as pd\n",
    "from importlib import reload\n",
    "from collections import defaultdict, OrderedDict\n",
    "import matplotlib.pyplot as plt\n",
    "import seaborn as sns\n",
    "new_rc_params = {'text.usetex': False, 'svg.fonttype': 'none' }\n",
    "plt.rcParams.update(new_rc_params)\n",
    "from sklearn.metrics import roc_auc_score, average_precision_score, precision_recall_curve, roc_curve\n",
    "sys.path.append(\"../scripts\")\n",
    "from utils import set_spines, get_figure_size, count_items"
   ]
  },
  {
   "cell_type": "code",
   "execution_count": 2,
   "metadata": {},
   "outputs": [],
   "source": [
    "ONEHOT = np.concatenate((np.zeros((6, 4), dtype=np.int8), np.diag(np.ones(4, dtype=np.int8))))"
   ]
  },
  {
   "cell_type": "code",
   "execution_count": 3,
   "metadata": {},
   "outputs": [
    {
     "name": "stdout",
     "output_type": "stream",
     "text": [
      "- load processed genome: /bigdat1/pub/UCSC/hg19/bigZips/hg19.fa.cache.pkl\n",
      "Loading bed: /home/chenken/Documents/github/SpliceBERT/examples/data/gencode.v41lift37.canonical.tx.bed.gz: 37770it [00:00, 420375.33it/s]\n",
      "100%|█████████████████████████████████████████| 125/125 [00:06<00:00, 19.45it/s]\n"
     ]
    }
   ],
   "source": [
    "! ../scripts/fetch_embed_cons.py"
   ]
  },
  {
   "cell_type": "code",
   "execution_count": 4,
   "metadata": {},
   "outputs": [],
   "source": [
    "results = pickle.load(open(\"./embed_cons.pkl\", \"rb\")) "
   ]
  },
  {
   "cell_type": "code",
   "execution_count": 5,
   "metadata": {},
   "outputs": [
    {
     "name": "stdout",
     "output_type": "stream",
     "text": [
      "ids_extend (1000, 1530)\n",
      "splicebert (1000, 510, 512)\n",
      "splicebert-human (1000, 510, 512)\n",
      "phastcons (1000, 510)\n",
      "phylop (1000, 510)\n",
      "annotation (1000, 510, 12)\n"
     ]
    }
   ],
   "source": [
    "for k, v in results.items():\n",
    "    print(k, v.shape)"
   ]
  },
  {
   "cell_type": "code",
   "execution_count": 6,
   "metadata": {},
   "outputs": [
    {
     "name": "stderr",
     "output_type": "stream",
     "text": [
      "100%|██████████| 1000/1000 [00:05<00:00, 197.64it/s]\n"
     ]
    },
    {
     "name": "stdout",
     "output_type": "stream",
     "text": [
      "(506269, 2004) (506269, 512) (506269, 512) (506269,) (506269,) (506269, 12)\n"
     ]
    }
   ],
   "source": [
    "## load sequences(ids_extend), conservation scores(phastcons, phylop), \n",
    "##   and pre-computed nucleotide embeddings (SpliceBERT, SpliceBERT-Human)\n",
    "\n",
    "results = pickle.load(open(\"./embed_cons.pkl\", \"rb\")) # use samples\n",
    "results[\"ids\"] = list()\n",
    "flanking = 250\n",
    "for i in tqdm(range(results[\"ids_extend\"].shape[0])):\n",
    "    tmp = list()\n",
    "    for p in range(510, 1020):\n",
    "        substr = ONEHOT[results[\"ids_extend\"][i, p-flanking:p+1+flanking]].reshape(-1).astype(np.int8)\n",
    "        tmp.append(substr)\n",
    "    tmp = np.stack(tmp)\n",
    "    results[\"ids\"].append(tmp)\n",
    "results[\"ids\"] = np.stack(results[\"ids\"])\n",
    "del results[\"ids_extend\"]\n",
    "for k, v in results.items():\n",
    "    if v.ndim > 2:\n",
    "        dim = v.shape[-1]\n",
    "        v = v.reshape(-1, dim)\n",
    "    else:\n",
    "        v = v.reshape(-1)\n",
    "    results[k] = v\n",
    "ids, h1, h2, phastcons, phylop, annotation = [results[k] for k in [\"ids\", \"splicebert\", \"splicebert-human\", \"phastcons\", \"phylop\" ,\"annotation\"]]\n",
    "keep = np.where((~np.isnan(phastcons)) & (~np.isnan(phylop)))[0]\n",
    "ids = ids[keep]\n",
    "h1 = h1[keep] # SpliceBERT\n",
    "h2 = h2[keep] # SpliceBERT-human\n",
    "phastcons = phastcons[keep]\n",
    "phylop = phylop[keep]\n",
    "annotation = annotation[keep]\n",
    "print(ids.shape, h1.shape, h2.shape, phastcons.shape, phylop.shape, annotation.shape)"
   ]
  },
  {
   "cell_type": "code",
   "execution_count": 7,
   "metadata": {},
   "outputs": [
    {
     "name": "stdout",
     "output_type": "stream",
     "text": [
      "(506269, 2004) (506269, 512) (506269, 512)\n"
     ]
    }
   ],
   "source": [
    "print(ids.shape, h1.shape, h2.shape)"
   ]
  },
  {
   "cell_type": "code",
   "execution_count": 8,
   "metadata": {},
   "outputs": [],
   "source": [
    "# normalize SpliceBERT and SpliceBERT-human embeddings\n",
    "h1 = (h1 - np.mean(h1, axis=0, keepdims=True)) / np.std(h1, axis=0, keepdims=True) # SpliceBERT\n",
    "h2 = (h2 - np.mean(h2, axis=0, keepdims=True)) / np.std(h2, axis=0, keepdims=True) # SpliceBERT-human"
   ]
  },
  {
   "cell_type": "code",
   "execution_count": 10,
   "metadata": {},
   "outputs": [
    {
     "name": "stdout",
     "output_type": "stream",
     "text": [
      "[[False, 100972, 0.199], [True, 405297, 0.801]]\n",
      "405297 100972\n"
     ]
    }
   ],
   "source": [
    "np.random.rand(2020)\n",
    "\n",
    "# split train and test\n",
    "in_train = np.random.rand(ids.shape[0]) > 0.2\n",
    "print(count_items(in_train, fraction=True))\n",
    "is_train = np.where(in_train)[0]\n",
    "is_test = np.where(~in_train)[0]\n",
    "print(len(is_train), len(is_test))"
   ]
  },
  {
   "cell_type": "code",
   "execution_count": 12,
   "metadata": {},
   "outputs": [
    {
     "name": "stdout",
     "output_type": "stream",
     "text": [
      "[[0.0, 476963, 0.942], [1.0, 29306, 0.058]]\n"
     ]
    }
   ],
   "source": [
    "# make labels\n",
    "labels = np.zeros_like(phastcons)\n",
    "labels[np.where(phastcons >= 0.8)[0]] = 1\n",
    "print(count_items(labels, fraction=True))"
   ]
  },
  {
   "cell_type": "code",
   "execution_count": 14,
   "metadata": {},
   "outputs": [],
   "source": [
    "max_iter = 1000\n",
    "\n",
    "from sklearn.linear_model import LogisticRegression\n",
    "lr_onehot = LogisticRegression(max_iter=max_iter)\n",
    "lr_vert = LogisticRegression(max_iter=max_iter)\n",
    "lr_human = LogisticRegression(max_iter=max_iter)"
   ]
  },
  {
   "cell_type": "code",
   "execution_count": 15,
   "metadata": {},
   "outputs": [
    {
     "name": "stdout",
     "output_type": "stream",
     "text": [
      "onehot\n",
      "0.5334553022568775 0.06730556146639005\n",
      "vert\n",
      "0.8386391235692554 0.3561209976470553\n",
      "human\n",
      "0.7910117268966347 0.25407910877208906\n"
     ]
    }
   ],
   "source": [
    "# if os.path.exists(\"./mlm2cons_models.pkl\"):\n",
    "#     with open(\"./mlm2cons_models.pkl\", \"rb\") as f:\n",
    "#         lr_onehot, lr_vert, lr_human = pickle.load(f)\n",
    "# else:\n",
    "print(\"onehot\")\n",
    "lr_onehot.fit(ids[is_train], labels[is_train])\n",
    "onehot_lr = lr_onehot.predict_proba(ids[is_test])[::, 1]\n",
    "print(roc_auc_score(labels[is_test], onehot_lr), average_precision_score(labels[is_test], onehot_lr))\n",
    "\n",
    "print(\"vert\")\n",
    "lr_vert.fit(h1[is_train], labels[is_train])\n",
    "vert_lr = lr_vert.predict_proba(h1[is_test])[::, 1]\n",
    "print(roc_auc_score(labels[is_test], vert_lr), average_precision_score(labels[is_test], vert_lr))\n",
    "\n",
    "print(\"human\")\n",
    "lr_human.fit(h2[is_train], labels[is_train])\n",
    "human_lr = lr_human.predict_proba(h2[is_test])[::, 1]\n",
    "print(roc_auc_score(labels[is_test], human_lr), average_precision_score(labels[is_test], human_lr))\n",
    "\n",
    "pickle.dump((lr_onehot, lr_vert, lr_human), open(\"./mlm2cons_models.pkl\", \"wb\"), protocol=pickle.HIGHEST_PROTOCOL)"
   ]
  },
  {
   "cell_type": "code",
   "execution_count": 21,
   "metadata": {},
   "outputs": [
    {
     "data": {
      "image/png": "[encoded data removed]",
      "text/plain": [
       "<Figure size 358.56x179.28 with 2 Axes>"
      ]
     },
     "metadata": {
      "needs_background": "light"
     },
     "output_type": "display_data"
    }
   ],
   "source": [
    "# set title/axes/legend font size\n",
    "fs = 7\n",
    "plt.rcParams['font.size'] = fs\n",
    "plt.rcParams['axes.titlesize'] = fs\n",
    "plt.rcParams['axes.labelsize'] = fs\n",
    "plt.rcParams['xtick.labelsize'] = fs\n",
    "plt.rcParams['ytick.labelsize'] = fs\n",
    "plt.rcParams['legend.fontsize'] = fs\n",
    "plt.rcParams['figure.titlesize'] = fs\n",
    "\n",
    "fig, axs = plt.subplots(ncols=2, nrows=1, figsize=get_figure_size(0.6, 0.6 * 0.5))\n",
    "ax = axs[0]\n",
    "# _ = ax.hist(cons_scores['cons'].numpy(), bins=400)\n",
    "# _ = ax.hist(phastcons, bins=1000)\n",
    "sns.kdeplot(phastcons, ax=ax, fill=True)\n",
    "# ax.hist(phastcons, bins=100)\n",
    "ax.vlines(0.8, 0, 10, color='grey', linestyle='--')\n",
    "# annotate \"unconserved\" region (phastCons < 0.8)\n",
    "ax.text(x=0.25, y=5, s=\"non-conserved\", color='k', fontsize=fs, rotation=0)\n",
    "ax.text(x=0.85, y=5, s=\"conserved\", color='k', fontsize=fs, rotation=0)\n",
    "\n",
    "# sns.distplot(phastcons, ax=ax, kde=True)\n",
    "ax.set_xlabel(\"phastCons(100way) score\")\n",
    "ax.set_xticks(np.arange(0, 1.1, 0.2))\n",
    "set_spines(ax)\n",
    "ax.set_title(\"distribution of phastCons scores\")\n",
    "# ax.set_aspect('equal')\n",
    "\n",
    "ax = axs[1]\n",
    "p, r, _ = precision_recall_curve(labels[is_test], vert_lr)\n",
    "ax.plot(r, p, label=\"SpliceBERT ({:.3f})\".format(average_precision_score(labels[is_test], vert_lr)))\n",
    "\n",
    "p, r, _ = precision_recall_curve(labels[is_test], human_lr)\n",
    "ax.plot(r, p, label=\"SpliceBERT-human ({:.3f})\".format(average_precision_score(labels[is_test], human_lr)))\n",
    "\n",
    "p, r, _ = precision_recall_curve(labels[is_test], onehot_lr)\n",
    "ax.plot(r, p, label=\"onehot ({:.3f})\".format(average_precision_score(labels[is_test], onehot_lr)))\n",
    "\n",
    "ax.legend(frameon=False)\n",
    "ax.hlines(xmin=0, xmax=1, y=labels[is_test].sum() / len(is_test), color='grey', linewidth=1.5, linestyle='--')\n",
    "ax.set_xlabel(\"Recall\")\n",
    "ax.set_ylabel(\"Precision\")\n",
    "ax.set_xlim(left=0, right=1)\n",
    "ax.set_ylim(bottom=0, top=1)\n",
    "ax.set_title(\"conserved/non-conserved sites\\nclassification\")\n",
    "set_spines(ax)\n",
    "\n",
    "plt.tight_layout()\n",
    "\n",
    "plt.savefig(\"pred_cons.svg\")\n",
    "plt.savefig(\"pred_cons.jpg\", dpi=600)"
   ]
  },
  {
   "cell_type": "code",
   "execution_count": null,
   "metadata": {},
   "outputs": [],
   "source": []
  }
 ],
 "metadata": {
  "kernelspec": {
   "display_name": "base",
   "language": "python",
   "name": "python3"
  },
  "language_info": {
   "codemirror_mode": {
    "name": "ipython",
    "version": 3
   },
   "file_extension": ".py",
   "mimetype": "text/x-python",
   "name": "python",
   "nbconvert_exporter": "python",
   "pygments_lexer": "ipython3",
   "version": "3.9.7"
  },
  "orig_nbformat": 4
 },
 "nbformat": 4,
 "nbformat_minor": 2
}
